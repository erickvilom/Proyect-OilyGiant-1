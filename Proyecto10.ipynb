{
 "cells": [
  {
   "cell_type": "markdown",
   "metadata": {},
   "source": [
    "# Introducción"
   ]
  },
  {
   "cell_type": "markdown",
   "metadata": {},
   "source": [
    "Nuestro enfoque en este proyecto es ayudar a la empresa OilyGiant a encontrar la mejor ubicación para abrir 200 pozos nuevos de petróleo en base a muestras de crudo de tres regiones, para ello crearé un modelo que ayudará a elegir la región con el mayor margen de beneficio y utilizaré la técnica Bootstrapping para analizar posibles beneficios y riesgos."
   ]
  },
  {
   "cell_type": "markdown",
   "metadata": {},
   "source": [
    "# Importación de Librerías y Datos"
   ]
  },
  {
   "cell_type": "code",
   "execution_count": 23,
   "metadata": {},
   "outputs": [],
   "source": [
    "import pandas as pd\n",
    "import seaborn as sns\n",
    "import matplotlib.pyplot as plt\n",
    "import numpy as np\n",
    "from sklearn.model_selection import train_test_split\n",
    "from sklearn.linear_model import LinearRegression\n",
    "from sklearn.metrics import mean_squared_error, r2_score"
   ]
  },
  {
   "cell_type": "code",
   "execution_count": 24,
   "metadata": {},
   "outputs": [],
   "source": [
    "df0 = pd.read_csv('/datasets/geo_data_0.csv')\n",
    "df1 = pd.read_csv('/datasets/geo_data_1.csv')\n",
    "df2 = pd.read_csv('/datasets/geo_data_2.csv')"
   ]
  },
  {
   "cell_type": "markdown",
   "metadata": {},
   "source": [
    "# Exploración Inicial de Datos"
   ]
  },
  {
   "cell_type": "markdown",
   "metadata": {},
   "source": [
    "En la siguiente sección luego de haber cargado las librerías necesarias y de haber importado los datos, procederé a hacer un análisis exploratorio inicial para cada base de datos en cada región."
   ]
  },
  {
   "cell_type": "code",
   "execution_count": 25,
   "metadata": {},
   "outputs": [
    {
     "data": {
      "text/html": [
       "<div>\n",
       "<style scoped>\n",
       "    .dataframe tbody tr th:only-of-type {\n",
       "        vertical-align: middle;\n",
       "    }\n",
       "\n",
       "    .dataframe tbody tr th {\n",
       "        vertical-align: top;\n",
       "    }\n",
       "\n",
       "    .dataframe thead th {\n",
       "        text-align: right;\n",
       "    }\n",
       "</style>\n",
       "<table border=\"1\" class=\"dataframe\">\n",
       "  <thead>\n",
       "    <tr style=\"text-align: right;\">\n",
       "      <th></th>\n",
       "      <th>id</th>\n",
       "      <th>f0</th>\n",
       "      <th>f1</th>\n",
       "      <th>f2</th>\n",
       "      <th>product</th>\n",
       "    </tr>\n",
       "  </thead>\n",
       "  <tbody>\n",
       "    <tr>\n",
       "      <th>0</th>\n",
       "      <td>txEyH</td>\n",
       "      <td>0.705745</td>\n",
       "      <td>-0.497823</td>\n",
       "      <td>1.221170</td>\n",
       "      <td>105.280062</td>\n",
       "    </tr>\n",
       "    <tr>\n",
       "      <th>1</th>\n",
       "      <td>2acmU</td>\n",
       "      <td>1.334711</td>\n",
       "      <td>-0.340164</td>\n",
       "      <td>4.365080</td>\n",
       "      <td>73.037750</td>\n",
       "    </tr>\n",
       "    <tr>\n",
       "      <th>2</th>\n",
       "      <td>409Wp</td>\n",
       "      <td>1.022732</td>\n",
       "      <td>0.151990</td>\n",
       "      <td>1.419926</td>\n",
       "      <td>85.265647</td>\n",
       "    </tr>\n",
       "    <tr>\n",
       "      <th>3</th>\n",
       "      <td>iJLyR</td>\n",
       "      <td>-0.032172</td>\n",
       "      <td>0.139033</td>\n",
       "      <td>2.978566</td>\n",
       "      <td>168.620776</td>\n",
       "    </tr>\n",
       "    <tr>\n",
       "      <th>4</th>\n",
       "      <td>Xdl7t</td>\n",
       "      <td>1.988431</td>\n",
       "      <td>0.155413</td>\n",
       "      <td>4.751769</td>\n",
       "      <td>154.036647</td>\n",
       "    </tr>\n",
       "  </tbody>\n",
       "</table>\n",
       "</div>"
      ],
      "text/plain": [
       "      id        f0        f1        f2     product\n",
       "0  txEyH  0.705745 -0.497823  1.221170  105.280062\n",
       "1  2acmU  1.334711 -0.340164  4.365080   73.037750\n",
       "2  409Wp  1.022732  0.151990  1.419926   85.265647\n",
       "3  iJLyR -0.032172  0.139033  2.978566  168.620776\n",
       "4  Xdl7t  1.988431  0.155413  4.751769  154.036647"
      ]
     },
     "execution_count": 25,
     "metadata": {},
     "output_type": "execute_result"
    }
   ],
   "source": [
    "df0.head()"
   ]
  },
  {
   "cell_type": "code",
   "execution_count": 26,
   "metadata": {},
   "outputs": [
    {
     "name": "stdout",
     "output_type": "stream",
     "text": [
      "<class 'pandas.core.frame.DataFrame'>\n",
      "RangeIndex: 100000 entries, 0 to 99999\n",
      "Data columns (total 5 columns):\n",
      " #   Column   Non-Null Count   Dtype  \n",
      "---  ------   --------------   -----  \n",
      " 0   id       100000 non-null  object \n",
      " 1   f0       100000 non-null  float64\n",
      " 2   f1       100000 non-null  float64\n",
      " 3   f2       100000 non-null  float64\n",
      " 4   product  100000 non-null  float64\n",
      "dtypes: float64(4), object(1)\n",
      "memory usage: 3.8+ MB\n",
      "Number of duplicates: 0\n"
     ]
    },
    {
     "data": {
      "text/html": [
       "<div>\n",
       "<style scoped>\n",
       "    .dataframe tbody tr th:only-of-type {\n",
       "        vertical-align: middle;\n",
       "    }\n",
       "\n",
       "    .dataframe tbody tr th {\n",
       "        vertical-align: top;\n",
       "    }\n",
       "\n",
       "    .dataframe thead th {\n",
       "        text-align: right;\n",
       "    }\n",
       "</style>\n",
       "<table border=\"1\" class=\"dataframe\">\n",
       "  <thead>\n",
       "    <tr style=\"text-align: right;\">\n",
       "      <th></th>\n",
       "      <th>f0</th>\n",
       "      <th>f1</th>\n",
       "      <th>f2</th>\n",
       "      <th>product</th>\n",
       "    </tr>\n",
       "  </thead>\n",
       "  <tbody>\n",
       "    <tr>\n",
       "      <th>count</th>\n",
       "      <td>100000.000000</td>\n",
       "      <td>100000.000000</td>\n",
       "      <td>100000.000000</td>\n",
       "      <td>100000.000000</td>\n",
       "    </tr>\n",
       "    <tr>\n",
       "      <th>mean</th>\n",
       "      <td>0.500419</td>\n",
       "      <td>0.250143</td>\n",
       "      <td>2.502647</td>\n",
       "      <td>92.500000</td>\n",
       "    </tr>\n",
       "    <tr>\n",
       "      <th>std</th>\n",
       "      <td>0.871832</td>\n",
       "      <td>0.504433</td>\n",
       "      <td>3.248248</td>\n",
       "      <td>44.288691</td>\n",
       "    </tr>\n",
       "    <tr>\n",
       "      <th>min</th>\n",
       "      <td>-1.408605</td>\n",
       "      <td>-0.848218</td>\n",
       "      <td>-12.088328</td>\n",
       "      <td>0.000000</td>\n",
       "    </tr>\n",
       "    <tr>\n",
       "      <th>25%</th>\n",
       "      <td>-0.072580</td>\n",
       "      <td>-0.200881</td>\n",
       "      <td>0.287748</td>\n",
       "      <td>56.497507</td>\n",
       "    </tr>\n",
       "    <tr>\n",
       "      <th>50%</th>\n",
       "      <td>0.502360</td>\n",
       "      <td>0.250252</td>\n",
       "      <td>2.515969</td>\n",
       "      <td>91.849972</td>\n",
       "    </tr>\n",
       "    <tr>\n",
       "      <th>75%</th>\n",
       "      <td>1.073581</td>\n",
       "      <td>0.700646</td>\n",
       "      <td>4.715088</td>\n",
       "      <td>128.564089</td>\n",
       "    </tr>\n",
       "    <tr>\n",
       "      <th>max</th>\n",
       "      <td>2.362331</td>\n",
       "      <td>1.343769</td>\n",
       "      <td>16.003790</td>\n",
       "      <td>185.364347</td>\n",
       "    </tr>\n",
       "  </tbody>\n",
       "</table>\n",
       "</div>"
      ],
      "text/plain": [
       "                  f0             f1             f2        product\n",
       "count  100000.000000  100000.000000  100000.000000  100000.000000\n",
       "mean        0.500419       0.250143       2.502647      92.500000\n",
       "std         0.871832       0.504433       3.248248      44.288691\n",
       "min        -1.408605      -0.848218     -12.088328       0.000000\n",
       "25%        -0.072580      -0.200881       0.287748      56.497507\n",
       "50%         0.502360       0.250252       2.515969      91.849972\n",
       "75%         1.073581       0.700646       4.715088     128.564089\n",
       "max         2.362331       1.343769      16.003790     185.364347"
      ]
     },
     "execution_count": 26,
     "metadata": {},
     "output_type": "execute_result"
    }
   ],
   "source": [
    "df0.info()\n",
    "print('Number of duplicates:', df0.duplicated().sum())\n",
    "df0.describe()"
   ]
  },
  {
   "cell_type": "code",
   "execution_count": 27,
   "metadata": {},
   "outputs": [
    {
     "data": {
      "text/html": [
       "<div>\n",
       "<style scoped>\n",
       "    .dataframe tbody tr th:only-of-type {\n",
       "        vertical-align: middle;\n",
       "    }\n",
       "\n",
       "    .dataframe tbody tr th {\n",
       "        vertical-align: top;\n",
       "    }\n",
       "\n",
       "    .dataframe thead th {\n",
       "        text-align: right;\n",
       "    }\n",
       "</style>\n",
       "<table border=\"1\" class=\"dataframe\">\n",
       "  <thead>\n",
       "    <tr style=\"text-align: right;\">\n",
       "      <th></th>\n",
       "      <th>id</th>\n",
       "      <th>f0</th>\n",
       "      <th>f1</th>\n",
       "      <th>f2</th>\n",
       "      <th>product</th>\n",
       "    </tr>\n",
       "  </thead>\n",
       "  <tbody>\n",
       "    <tr>\n",
       "      <th>0</th>\n",
       "      <td>kBEdx</td>\n",
       "      <td>-15.001348</td>\n",
       "      <td>-8.276000</td>\n",
       "      <td>-0.005876</td>\n",
       "      <td>3.179103</td>\n",
       "    </tr>\n",
       "    <tr>\n",
       "      <th>1</th>\n",
       "      <td>62mP7</td>\n",
       "      <td>14.272088</td>\n",
       "      <td>-3.475083</td>\n",
       "      <td>0.999183</td>\n",
       "      <td>26.953261</td>\n",
       "    </tr>\n",
       "    <tr>\n",
       "      <th>2</th>\n",
       "      <td>vyE1P</td>\n",
       "      <td>6.263187</td>\n",
       "      <td>-5.948386</td>\n",
       "      <td>5.001160</td>\n",
       "      <td>134.766305</td>\n",
       "    </tr>\n",
       "    <tr>\n",
       "      <th>3</th>\n",
       "      <td>KcrkZ</td>\n",
       "      <td>-13.081196</td>\n",
       "      <td>-11.506057</td>\n",
       "      <td>4.999415</td>\n",
       "      <td>137.945408</td>\n",
       "    </tr>\n",
       "    <tr>\n",
       "      <th>4</th>\n",
       "      <td>AHL4O</td>\n",
       "      <td>12.702195</td>\n",
       "      <td>-8.147433</td>\n",
       "      <td>5.004363</td>\n",
       "      <td>134.766305</td>\n",
       "    </tr>\n",
       "  </tbody>\n",
       "</table>\n",
       "</div>"
      ],
      "text/plain": [
       "      id         f0         f1        f2     product\n",
       "0  kBEdx -15.001348  -8.276000 -0.005876    3.179103\n",
       "1  62mP7  14.272088  -3.475083  0.999183   26.953261\n",
       "2  vyE1P   6.263187  -5.948386  5.001160  134.766305\n",
       "3  KcrkZ -13.081196 -11.506057  4.999415  137.945408\n",
       "4  AHL4O  12.702195  -8.147433  5.004363  134.766305"
      ]
     },
     "execution_count": 27,
     "metadata": {},
     "output_type": "execute_result"
    }
   ],
   "source": [
    "df1.head()"
   ]
  },
  {
   "cell_type": "code",
   "execution_count": 28,
   "metadata": {},
   "outputs": [
    {
     "name": "stdout",
     "output_type": "stream",
     "text": [
      "<class 'pandas.core.frame.DataFrame'>\n",
      "RangeIndex: 100000 entries, 0 to 99999\n",
      "Data columns (total 5 columns):\n",
      " #   Column   Non-Null Count   Dtype  \n",
      "---  ------   --------------   -----  \n",
      " 0   id       100000 non-null  object \n",
      " 1   f0       100000 non-null  float64\n",
      " 2   f1       100000 non-null  float64\n",
      " 3   f2       100000 non-null  float64\n",
      " 4   product  100000 non-null  float64\n",
      "dtypes: float64(4), object(1)\n",
      "memory usage: 3.8+ MB\n",
      "Number of duplicates: 0\n"
     ]
    },
    {
     "data": {
      "text/html": [
       "<div>\n",
       "<style scoped>\n",
       "    .dataframe tbody tr th:only-of-type {\n",
       "        vertical-align: middle;\n",
       "    }\n",
       "\n",
       "    .dataframe tbody tr th {\n",
       "        vertical-align: top;\n",
       "    }\n",
       "\n",
       "    .dataframe thead th {\n",
       "        text-align: right;\n",
       "    }\n",
       "</style>\n",
       "<table border=\"1\" class=\"dataframe\">\n",
       "  <thead>\n",
       "    <tr style=\"text-align: right;\">\n",
       "      <th></th>\n",
       "      <th>f0</th>\n",
       "      <th>f1</th>\n",
       "      <th>f2</th>\n",
       "      <th>product</th>\n",
       "    </tr>\n",
       "  </thead>\n",
       "  <tbody>\n",
       "    <tr>\n",
       "      <th>count</th>\n",
       "      <td>100000.000000</td>\n",
       "      <td>100000.000000</td>\n",
       "      <td>100000.000000</td>\n",
       "      <td>100000.000000</td>\n",
       "    </tr>\n",
       "    <tr>\n",
       "      <th>mean</th>\n",
       "      <td>1.141296</td>\n",
       "      <td>-4.796579</td>\n",
       "      <td>2.494541</td>\n",
       "      <td>68.825000</td>\n",
       "    </tr>\n",
       "    <tr>\n",
       "      <th>std</th>\n",
       "      <td>8.965932</td>\n",
       "      <td>5.119872</td>\n",
       "      <td>1.703572</td>\n",
       "      <td>45.944423</td>\n",
       "    </tr>\n",
       "    <tr>\n",
       "      <th>min</th>\n",
       "      <td>-31.609576</td>\n",
       "      <td>-26.358598</td>\n",
       "      <td>-0.018144</td>\n",
       "      <td>0.000000</td>\n",
       "    </tr>\n",
       "    <tr>\n",
       "      <th>25%</th>\n",
       "      <td>-6.298551</td>\n",
       "      <td>-8.267985</td>\n",
       "      <td>1.000021</td>\n",
       "      <td>26.953261</td>\n",
       "    </tr>\n",
       "    <tr>\n",
       "      <th>50%</th>\n",
       "      <td>1.153055</td>\n",
       "      <td>-4.813172</td>\n",
       "      <td>2.011479</td>\n",
       "      <td>57.085625</td>\n",
       "    </tr>\n",
       "    <tr>\n",
       "      <th>75%</th>\n",
       "      <td>8.621015</td>\n",
       "      <td>-1.332816</td>\n",
       "      <td>3.999904</td>\n",
       "      <td>107.813044</td>\n",
       "    </tr>\n",
       "    <tr>\n",
       "      <th>max</th>\n",
       "      <td>29.421755</td>\n",
       "      <td>18.734063</td>\n",
       "      <td>5.019721</td>\n",
       "      <td>137.945408</td>\n",
       "    </tr>\n",
       "  </tbody>\n",
       "</table>\n",
       "</div>"
      ],
      "text/plain": [
       "                  f0             f1             f2        product\n",
       "count  100000.000000  100000.000000  100000.000000  100000.000000\n",
       "mean        1.141296      -4.796579       2.494541      68.825000\n",
       "std         8.965932       5.119872       1.703572      45.944423\n",
       "min       -31.609576     -26.358598      -0.018144       0.000000\n",
       "25%        -6.298551      -8.267985       1.000021      26.953261\n",
       "50%         1.153055      -4.813172       2.011479      57.085625\n",
       "75%         8.621015      -1.332816       3.999904     107.813044\n",
       "max        29.421755      18.734063       5.019721     137.945408"
      ]
     },
     "execution_count": 28,
     "metadata": {},
     "output_type": "execute_result"
    }
   ],
   "source": [
    "df1.info()\n",
    "print('Number of duplicates:', df1.duplicated().sum())\n",
    "df1.describe()"
   ]
  },
  {
   "cell_type": "code",
   "execution_count": 29,
   "metadata": {},
   "outputs": [
    {
     "data": {
      "text/html": [
       "<div>\n",
       "<style scoped>\n",
       "    .dataframe tbody tr th:only-of-type {\n",
       "        vertical-align: middle;\n",
       "    }\n",
       "\n",
       "    .dataframe tbody tr th {\n",
       "        vertical-align: top;\n",
       "    }\n",
       "\n",
       "    .dataframe thead th {\n",
       "        text-align: right;\n",
       "    }\n",
       "</style>\n",
       "<table border=\"1\" class=\"dataframe\">\n",
       "  <thead>\n",
       "    <tr style=\"text-align: right;\">\n",
       "      <th></th>\n",
       "      <th>id</th>\n",
       "      <th>f0</th>\n",
       "      <th>f1</th>\n",
       "      <th>f2</th>\n",
       "      <th>product</th>\n",
       "    </tr>\n",
       "  </thead>\n",
       "  <tbody>\n",
       "    <tr>\n",
       "      <th>0</th>\n",
       "      <td>fwXo0</td>\n",
       "      <td>-1.146987</td>\n",
       "      <td>0.963328</td>\n",
       "      <td>-0.828965</td>\n",
       "      <td>27.758673</td>\n",
       "    </tr>\n",
       "    <tr>\n",
       "      <th>1</th>\n",
       "      <td>WJtFt</td>\n",
       "      <td>0.262778</td>\n",
       "      <td>0.269839</td>\n",
       "      <td>-2.530187</td>\n",
       "      <td>56.069697</td>\n",
       "    </tr>\n",
       "    <tr>\n",
       "      <th>2</th>\n",
       "      <td>ovLUW</td>\n",
       "      <td>0.194587</td>\n",
       "      <td>0.289035</td>\n",
       "      <td>-5.586433</td>\n",
       "      <td>62.871910</td>\n",
       "    </tr>\n",
       "    <tr>\n",
       "      <th>3</th>\n",
       "      <td>q6cA6</td>\n",
       "      <td>2.236060</td>\n",
       "      <td>-0.553760</td>\n",
       "      <td>0.930038</td>\n",
       "      <td>114.572842</td>\n",
       "    </tr>\n",
       "    <tr>\n",
       "      <th>4</th>\n",
       "      <td>WPMUX</td>\n",
       "      <td>-0.515993</td>\n",
       "      <td>1.716266</td>\n",
       "      <td>5.899011</td>\n",
       "      <td>149.600746</td>\n",
       "    </tr>\n",
       "  </tbody>\n",
       "</table>\n",
       "</div>"
      ],
      "text/plain": [
       "      id        f0        f1        f2     product\n",
       "0  fwXo0 -1.146987  0.963328 -0.828965   27.758673\n",
       "1  WJtFt  0.262778  0.269839 -2.530187   56.069697\n",
       "2  ovLUW  0.194587  0.289035 -5.586433   62.871910\n",
       "3  q6cA6  2.236060 -0.553760  0.930038  114.572842\n",
       "4  WPMUX -0.515993  1.716266  5.899011  149.600746"
      ]
     },
     "execution_count": 29,
     "metadata": {},
     "output_type": "execute_result"
    }
   ],
   "source": [
    "df2.head()"
   ]
  },
  {
   "cell_type": "code",
   "execution_count": 30,
   "metadata": {},
   "outputs": [
    {
     "name": "stdout",
     "output_type": "stream",
     "text": [
      "<class 'pandas.core.frame.DataFrame'>\n",
      "RangeIndex: 100000 entries, 0 to 99999\n",
      "Data columns (total 5 columns):\n",
      " #   Column   Non-Null Count   Dtype  \n",
      "---  ------   --------------   -----  \n",
      " 0   id       100000 non-null  object \n",
      " 1   f0       100000 non-null  float64\n",
      " 2   f1       100000 non-null  float64\n",
      " 3   f2       100000 non-null  float64\n",
      " 4   product  100000 non-null  float64\n",
      "dtypes: float64(4), object(1)\n",
      "memory usage: 3.8+ MB\n",
      "Number of duplicates: 0\n"
     ]
    },
    {
     "data": {
      "text/html": [
       "<div>\n",
       "<style scoped>\n",
       "    .dataframe tbody tr th:only-of-type {\n",
       "        vertical-align: middle;\n",
       "    }\n",
       "\n",
       "    .dataframe tbody tr th {\n",
       "        vertical-align: top;\n",
       "    }\n",
       "\n",
       "    .dataframe thead th {\n",
       "        text-align: right;\n",
       "    }\n",
       "</style>\n",
       "<table border=\"1\" class=\"dataframe\">\n",
       "  <thead>\n",
       "    <tr style=\"text-align: right;\">\n",
       "      <th></th>\n",
       "      <th>f0</th>\n",
       "      <th>f1</th>\n",
       "      <th>f2</th>\n",
       "      <th>product</th>\n",
       "    </tr>\n",
       "  </thead>\n",
       "  <tbody>\n",
       "    <tr>\n",
       "      <th>count</th>\n",
       "      <td>100000.000000</td>\n",
       "      <td>100000.000000</td>\n",
       "      <td>100000.000000</td>\n",
       "      <td>100000.000000</td>\n",
       "    </tr>\n",
       "    <tr>\n",
       "      <th>mean</th>\n",
       "      <td>0.002023</td>\n",
       "      <td>-0.002081</td>\n",
       "      <td>2.495128</td>\n",
       "      <td>95.000000</td>\n",
       "    </tr>\n",
       "    <tr>\n",
       "      <th>std</th>\n",
       "      <td>1.732045</td>\n",
       "      <td>1.730417</td>\n",
       "      <td>3.473445</td>\n",
       "      <td>44.749921</td>\n",
       "    </tr>\n",
       "    <tr>\n",
       "      <th>min</th>\n",
       "      <td>-8.760004</td>\n",
       "      <td>-7.084020</td>\n",
       "      <td>-11.970335</td>\n",
       "      <td>0.000000</td>\n",
       "    </tr>\n",
       "    <tr>\n",
       "      <th>25%</th>\n",
       "      <td>-1.162288</td>\n",
       "      <td>-1.174820</td>\n",
       "      <td>0.130359</td>\n",
       "      <td>59.450441</td>\n",
       "    </tr>\n",
       "    <tr>\n",
       "      <th>50%</th>\n",
       "      <td>0.009424</td>\n",
       "      <td>-0.009482</td>\n",
       "      <td>2.484236</td>\n",
       "      <td>94.925613</td>\n",
       "    </tr>\n",
       "    <tr>\n",
       "      <th>75%</th>\n",
       "      <td>1.158535</td>\n",
       "      <td>1.163678</td>\n",
       "      <td>4.858794</td>\n",
       "      <td>130.595027</td>\n",
       "    </tr>\n",
       "    <tr>\n",
       "      <th>max</th>\n",
       "      <td>7.238262</td>\n",
       "      <td>7.844801</td>\n",
       "      <td>16.739402</td>\n",
       "      <td>190.029838</td>\n",
       "    </tr>\n",
       "  </tbody>\n",
       "</table>\n",
       "</div>"
      ],
      "text/plain": [
       "                  f0             f1             f2        product\n",
       "count  100000.000000  100000.000000  100000.000000  100000.000000\n",
       "mean        0.002023      -0.002081       2.495128      95.000000\n",
       "std         1.732045       1.730417       3.473445      44.749921\n",
       "min        -8.760004      -7.084020     -11.970335       0.000000\n",
       "25%        -1.162288      -1.174820       0.130359      59.450441\n",
       "50%         0.009424      -0.009482       2.484236      94.925613\n",
       "75%         1.158535       1.163678       4.858794     130.595027\n",
       "max         7.238262       7.844801      16.739402     190.029838"
      ]
     },
     "execution_count": 30,
     "metadata": {},
     "output_type": "execute_result"
    }
   ],
   "source": [
    "df2.info()\n",
    "print('Number of duplicates:', df1.duplicated().sum())\n",
    "df2.describe()"
   ]
  },
  {
   "cell_type": "markdown",
   "metadata": {},
   "source": [
    "# Comparación entre regiones"
   ]
  },
  {
   "cell_type": "markdown",
   "metadata": {},
   "source": [
    "En la siguiente sección trazaré un gráfico para poder visualizar las diferencias entre las regiones."
   ]
  },
  {
   "cell_type": "code",
   "execution_count": 31,
   "metadata": {},
   "outputs": [
    {
     "data": {
      "image/png": "[encoded data removed]",
      "text/plain": [
       "<Figure size 800x600 with 1 Axes>"
      ]
     },
     "metadata": {},
     "output_type": "display_data"
    }
   ],
   "source": [
    "mean_data = pd.DataFrame({\n",
    "    'Region': ['Region 0', 'Region 1', 'Region 2'],\n",
    "    'Barriles promedio': [df0['product'].mean(), df1['product'].mean(), df2['product'].mean()],\n",
    "    'Suma total de barriles': [df0['product'].sum(), df1['product'].sum(), df2['product'].sum()]\n",
    "})\n",
    "\n",
    "plt.figure(figsize=(8, 6))\n",
    "\n",
    "sns.barplot(x='Region', y='Barriles promedio', data=mean_data)\n",
    "\n",
    "for i, total_sum in enumerate(mean_data['Suma total de barriles']):\n",
    "    plt.text(i, mean_data.iloc[i]['Barriles promedio']/2, f'Sum: {total_sum:.2f}', ha='center', va='center', color='white', fontsize=12, fontweight='bold')\n",
    "\n",
    "plt.title('Barriles Promedio por Pozo de Petróleo en las Diferentes Regiones')\n",
    "plt.xlabel('Región')\n",
    "plt.ylabel('Barriles Promedio')\n",
    "\n",
    "plt.tight_layout()\n",
    "plt.show()"
   ]
  },
  {
   "cell_type": "markdown",
   "metadata": {},
   "source": [
    "Mediante el gráfico anterior se puede observar la diferencia en producción de barriles de las tres regiones, notanto que la región 2 es la que mas produce, seguida de la región 0 por muy poco y la región 1 se queda algo por debajo de las otra dos en último lugar en este aspecto."
   ]
  },
  {
   "cell_type": "markdown",
   "metadata": {},
   "source": [
    "# Limpieza de datos"
   ]
  },
  {
   "cell_type": "markdown",
   "metadata": {},
   "source": [
    "Esta sección es de limpieza de los datos para evitar problemas en el código sin embargo, en base al análisis exploratorio previo pude observar que al parecer no hace falta hacer un  cambio mayor ya que todo parece estar bien para proceder al siguiente paso sólo antes de eso comprobaré si los tipos de datos aparecen correctamente en todas las filas."
   ]
  },
  {
   "cell_type": "code",
   "execution_count": 32,
   "metadata": {},
   "outputs": [
    {
     "name": "stdout",
     "output_type": "stream",
     "text": [
      "Valores no numéricos en df0:\n",
      "id    99980\n",
      "dtype: int64\n",
      "\n",
      "Valores no numéricos en df1:\n",
      "id    99988\n",
      "dtype: int64\n",
      "\n",
      "Valores no numéricos en df2:\n",
      "id    99986\n",
      "dtype: int64\n"
     ]
    }
   ],
   "source": [
    "non_numeric_values_df0 = df0.apply(pd.to_numeric, errors='coerce').isna().sum()\n",
    "non_numeric_values_df0 = non_numeric_values_df0[non_numeric_values_df0 > 0]\n",
    "\n",
    "non_numeric_values_df1 = df1.apply(pd.to_numeric, errors='coerce').isna().sum()\n",
    "non_numeric_values_df1 = non_numeric_values_df1[non_numeric_values_df1 > 0]\n",
    "\n",
    "non_numeric_values_df2 = df2.apply(pd.to_numeric, errors='coerce').isna().sum()\n",
    "non_numeric_values_df2 = non_numeric_values_df2[non_numeric_values_df2 > 0]\n",
    "\n",
    "print(\"Valores no numéricos en df0:\")\n",
    "print(non_numeric_values_df0)\n",
    "\n",
    "print(\"\\nValores no numéricos en df1:\")\n",
    "print(non_numeric_values_df1)\n",
    "\n",
    "print(\"\\nValores no numéricos en df2:\")\n",
    "print(non_numeric_values_df2)"
   ]
  },
  {
   "cell_type": "markdown",
   "metadata": {},
   "source": [
    "Al parecer está bien, la única columna con valores de string es la de ID lo cual no me parece un problema ya que este campo identifica los nombres de los pozos petroleros por eso me parece normal y entonces continuaré con el proceso."
   ]
  },
  {
   "cell_type": "markdown",
   "metadata": {},
   "source": [
    "# División de datos en conjuntos de entrenamiento y validación"
   ]
  },
  {
   "cell_type": "markdown",
   "metadata": {},
   "source": [
    "En esta sección para garantizar una adecuada división de los datos y evaluar correctamente el rendimiento del modelo realizaré la separación en una proporción del 75% para el conjunto de entrenamiento y del 25% para el conjunto de validación por separado para cada región."
   ]
  },
  {
   "cell_type": "code",
   "execution_count": 33,
   "metadata": {},
   "outputs": [
    {
     "name": "stdout",
     "output_type": "stream",
     "text": [
      "Tamaño de los conjuntos de entrenamiento:\n",
      "\n",
      "df0_features_train: 75000\n",
      "df0_target_train: 75000\n",
      "\n",
      "df1_features_train: 75000\n",
      "df1_target_train: 75000\n",
      "\n",
      "df2_features_train: 75000\n",
      "df2_target_train: 75000\n",
      "\n",
      "\n",
      "Size of validation sets:\n",
      "\n",
      "df0_features_valid: 25000\n",
      "df0_target_valid: 25000\n",
      "\n",
      "df1_features_valid: 25000\n",
      "df1_target_valid: 25000\n",
      "\n",
      "df2_features_valid: 25000\n",
      "df2_target_valid: 25000\n"
     ]
    }
   ],
   "source": [
    "df0_train, df0_valid = train_test_split(df0, test_size=0.25, random_state=42)\n",
    "df1_train, df1_valid = train_test_split(df1, test_size=0.25, random_state=42)\n",
    "df2_train, df2_valid = train_test_split(df2, test_size=0.25, random_state=42)\n",
    "\n",
    "\n",
    "df0_features_train = df0_train.drop(\"product\", axis=1)\n",
    "df0_target_train = df0_train[\"product\"]\n",
    "df0_features_valid = df0_valid.drop(\"product\", axis=1)\n",
    "df0_target_valid = df0_valid[\"product\"]\n",
    "\n",
    "\n",
    "df1_features_train = df1_train.drop(\"product\", axis=1)\n",
    "df1_target_train = df1_train[\"product\"]\n",
    "df1_features_valid = df1_valid.drop(\"product\", axis=1)\n",
    "df1_target_valid = df1_valid[\"product\"]\n",
    "\n",
    "\n",
    "df2_features_train = df2_train.drop(\"product\", axis=1)\n",
    "df2_target_train = df2_train[\"product\"]\n",
    "df2_features_valid = df2_valid.drop(\"product\", axis=1)\n",
    "df2_target_valid = df2_valid[\"product\"]\n",
    "\n",
    "print(\"Tamaño de los conjuntos de entrenamiento:\")\n",
    "print()\n",
    "print(\"df0_features_train:\", len(df0_features_train))\n",
    "print(\"df0_target_train:\", len(df0_target_train))\n",
    "print()\n",
    "print(\"df1_features_train:\", len(df1_features_train))\n",
    "print(\"df1_target_train:\", len(df1_target_train))\n",
    "print()\n",
    "print(\"df2_features_train:\", len(df2_features_train))\n",
    "print(\"df2_target_train:\", len(df2_target_train))\n",
    "print()\n",
    "print()\n",
    "print(\"Size of validation sets:\")\n",
    "print()\n",
    "print(\"df0_features_valid:\", len(df0_features_valid))\n",
    "print(\"df0_target_valid:\", len(df0_target_valid))\n",
    "print()\n",
    "print(\"df1_features_valid:\", len(df1_features_valid))\n",
    "print(\"df1_target_valid:\", len(df1_target_valid))\n",
    "print()\n",
    "print(\"df2_features_valid:\", len(df2_features_valid))\n",
    "print(\"df2_target_valid:\", len(df2_target_valid))"
   ]
  },
  {
   "cell_type": "markdown",
   "metadata": {},
   "source": [
    "# Modelo de capacitación y pruebas para cada región"
   ]
  },
  {
   "cell_type": "markdown",
   "metadata": {},
   "source": [
    "En el siguiente paso se evaluarán y analizarán modelos de regresión lineal y sus resultados utilizando los DataFrames df0, df1 y df2, de esta forma podré observar cómo se comportan para ayudar a elegir la región con mayor margen de beneficio."
   ]
  },
  {
   "cell_type": "markdown",
   "metadata": {},
   "source": [
    "# Entrenamiento y evaluación de los modelos de las regiones"
   ]
  },
  {
   "cell_type": "markdown",
   "metadata": {},
   "source": [
    "# Regresión lineal para df0"
   ]
  },
  {
   "cell_type": "code",
   "execution_count": 34,
   "metadata": {},
   "outputs": [
    {
     "name": "stdout",
     "output_type": "stream",
     "text": [
      "Regresión lineal - Región 0\n",
      "MSE: 1425.5608700093808\n",
      "RMSE: 37.756600350261685\n",
      "Puntaje R2: 0.2728287328173472\n",
      "Volumen promedio previsto - Región 0: 92.3987999065777\n",
      "Volumen promedio del conjunto de validación - Región 0: 92.32595637084387\n"
     ]
    }
   ],
   "source": [
    "model_lr_0 = LinearRegression()\n",
    "\n",
    "model_lr_0.fit(df0_features_train.drop(\"id\", axis=1), df0_target_train)\n",
    "\n",
    "predictions_lr_0 = model_lr_0.predict(df0_features_valid.drop(\"id\", axis=1))\n",
    "\n",
    "mse_lr_0 = mean_squared_error(df0_target_valid, predictions_lr_0)\n",
    "rmse_lr_0 = np.sqrt(mse_lr_0)\n",
    "r2_lr_0 = r2_score(df0_target_valid, predictions_lr_0)\n",
    "\n",
    "print(\"Regresión lineal - Región 0\")\n",
    "print(\"MSE:\", mse_lr_0)\n",
    "print(\"RMSE:\", rmse_lr_0)\n",
    "print(\"Puntaje R2:\", r2_lr_0)\n",
    "average_predicted_volume_0 = predictions_lr_0.mean()\n",
    "average_validation_volume_0 = df0_target_valid.mean()\n",
    "print(\"Volumen promedio previsto - Región 0:\", average_predicted_volume_0)\n",
    "print(\"Volumen promedio del conjunto de validación - Región 0:\", average_validation_volume_0)"
   ]
  },
  {
   "cell_type": "markdown",
   "metadata": {},
   "source": [
    "# Regresión lineal para df1"
   ]
  },
  {
   "cell_type": "code",
   "execution_count": 35,
   "metadata": {},
   "outputs": [
    {
     "name": "stdout",
     "output_type": "stream",
     "text": [
      "Regresión lineal - Región 1\n",
      "MSE: 0.7925986566392013\n",
      "RMSE: 0.890280100102884\n",
      "Puntaje R2: 0.9996245232002449\n",
      "Volumen promedio previsto - Región 1: 68.71287803913762\n",
      "Volumen promedio del conjunto de validación - Región 1: 68.72538074722745\n"
     ]
    }
   ],
   "source": [
    "model_lr_1 = LinearRegression()\n",
    "\n",
    "model_lr_1.fit(df1_features_train.drop(\"id\", axis=1), df1_target_train)\n",
    "\n",
    "predictions_lr_1 = model_lr_1.predict(df1_features_valid.drop(\"id\", axis=1))\n",
    "\n",
    "mse_lr_1 = mean_squared_error(df1_target_valid, predictions_lr_1)\n",
    "rmse_lr_1 = np.sqrt(mse_lr_1)\n",
    "r2_lr_1 = r2_score(df1_target_valid, predictions_lr_1)\n",
    "\n",
    "print(\"Regresión lineal - Región 1\")\n",
    "print(\"MSE:\", mse_lr_1)\n",
    "print(\"RMSE:\", rmse_lr_1)\n",
    "print(\"Puntaje R2:\", r2_lr_1)\n",
    "average_predicted_volume_1 = predictions_lr_1.mean()\n",
    "average_validation_volume_1 = df1_target_valid.mean()\n",
    "print(\"Volumen promedio previsto - Región 1:\", average_predicted_volume_1)\n",
    "print(\"Volumen promedio del conjunto de validación - Región 1:\", average_validation_volume_1)"
   ]
  },
  {
   "cell_type": "markdown",
   "metadata": {},
   "source": [
    "# Regresión lineal para df2"
   ]
  },
  {
   "cell_type": "code",
   "execution_count": 36,
   "metadata": {},
   "outputs": [
    {
     "name": "stdout",
     "output_type": "stream",
     "text": [
      "Regresión lineal - Región 2\n",
      "MSE: 1611.6910636385905\n",
      "RMSE: 40.14587231134218\n",
      "Puntaje R2: 0.19634705977280464\n",
      "Volumen promedio previsto - Región 2: 94.77102387765939\n",
      "Volumen promedio del conjunto de validación - Región 2: 95.15099907171961\n"
     ]
    }
   ],
   "source": [
    "model_lr_2 = LinearRegression()\n",
    "\n",
    "model_lr_2.fit(df2_features_train.drop(\"id\", axis=1), df2_target_train)\n",
    "\n",
    "predictions_lr_2 = model_lr_2.predict(df2_features_valid.drop(\"id\", axis=1))\n",
    "\n",
    "mse_lr_2 = mean_squared_error(df2_target_valid, predictions_lr_2)\n",
    "rmse_lr_2 = np.sqrt(mse_lr_2)\n",
    "r2_lr_2 = r2_score(df2_target_valid, predictions_lr_2)\n",
    "\n",
    "print(\"Regresión lineal - Región 2\")\n",
    "print(\"MSE:\", mse_lr_2)\n",
    "print(\"RMSE:\", rmse_lr_2)\n",
    "print(\"Puntaje R2:\", r2_lr_2)\n",
    "average_predicted_volume_2 = predictions_lr_2.mean()\n",
    "average_validation_volume_2 = df2_target_valid.mean()\n",
    "print(\"Volumen promedio previsto - Región 2:\", average_predicted_volume_2)\n",
    "print(\"Volumen promedio del conjunto de validación - Región 2:\", average_validation_volume_2)"
   ]
  },
  {
   "cell_type": "code",
   "execution_count": 37,
   "metadata": {},
   "outputs": [
    {
     "data": {
      "image/png": "[encoded data removed]",
      "text/plain": [
       "<Figure size 2000x600 with 5 Axes>"
      ]
     },
     "metadata": {},
     "output_type": "display_data"
    }
   ],
   "source": [
    "mse_values = [mse_lr_0, mse_lr_1, mse_lr_2]\n",
    "rmse_values = [rmse_lr_0, rmse_lr_1, rmse_lr_2]\n",
    "r2_values = [r2_lr_0, r2_lr_1, r2_lr_2]\n",
    "\n",
    "predicted_volumes = [average_predicted_volume_0, average_predicted_volume_1, average_predicted_volume_2]\n",
    "validation_volumes = [average_validation_volume_0, average_validation_volume_1, average_validation_volume_2]\n",
    "\n",
    "fig, axs = plt.subplots(1, 5, figsize=(20, 6))\n",
    "\n",
    "axs[0].bar(range(3), mse_values, color=['#FF7F0E', '#1F77B4', '#FFDC00'])\n",
    "axs[0].set_xticks(range(3))\n",
    "axs[0].set_xticklabels(['Region 0', 'Region 1', 'Region 2'])\n",
    "axs[0].set_ylabel('MSE')\n",
    "axs[0].set_title('MSE para cada Región')\n",
    "\n",
    "axs[1].bar(range(3), rmse_values, color=['#FF7F0E', '#1F77B4', '#FFDC00'])\n",
    "axs[1].set_xticks(range(3))\n",
    "axs[1].set_xticklabels(['Region 0', 'Region 1', 'Region 2'])\n",
    "axs[1].set_ylabel('RMSE')\n",
    "axs[1].set_title('RMSE para cada Región')\n",
    "\n",
    "axs[2].bar(range(3), r2_values, color=['#FF7F0E', '#1F77B4', '#FFDC00'])\n",
    "axs[2].set_xticks(range(3))\n",
    "axs[2].set_xticklabels(['Region 0', 'Region 1', 'Region 2'])\n",
    "axs[2].set_ylabel('Puntaje R2')\n",
    "axs[2].set_title('Puntaje R2 para cada Región')\n",
    "\n",
    "axs[3].bar(range(3), predicted_volumes, color=['#FF7F0E', '#1F77B4', '#FFDC00'])\n",
    "axs[3].set_xticks(range(3))\n",
    "axs[3].set_xticklabels(['Region 0', 'Region 1', 'Region 2'])\n",
    "axs[3].set_ylabel('Volumen promedio previsto')\n",
    "axs[3].set_title('Volumen promedio previsto para cada región')\n",
    "\n",
    "axs[4].bar(range(3), validation_volumes, color=['#FF7F0E', '#1F77B4', '#FFDC00'])\n",
    "axs[4].set_xticks(range(3))\n",
    "axs[4].set_xticklabels(['Region 0', 'Region 1', 'Region 2'])\n",
    "axs[4].set_ylabel('Volumen promedio de validación')\n",
    "axs[4].set_title('Volumen promedio de validación para cada región')\n",
    "\n",
    "plt.tight_layout()\n",
    "plt.show()"
   ]
  },
  {
   "cell_type": "markdown",
   "metadata": {},
   "source": [
    "Luego de evaluar los modelos de Regresión Lineal en cada una de las tres regiones se puede analizar los resultados obtenidos ilustrados también con gráficos en los cuales se puede observar que en la Región 0 el modelo presentó un MSE aproximado de 1425.5 y un RMSE de 37.75, la puntuación R2 fue de 0.27 lo cual indica que el modelo no funcinó del todo bien al predecir el volumen de reservas en esta región mientras que el volumen promedio previsto fue 92.39 y el volumen promedio del conjunto de validación fue de 92.32.\n",
    "\n",
    "En la Región 1 el modelo tuvo un muy buen desempeño con un MSE de 0.79 y un RMSE de 0.89, la puntuación R2 fue de 0.99 lo cual indica que el modelo se ajustaba muy bien a los datos y tiene una gran capacidad para predecir el volumen de reservas mientras que el volumen promedio previsto fue de 68.71 y el volumen promedio del conjunto de validación fue de 68.73.\n",
    "\n",
    "En la Región 2 el modelo presentó un MSE de 1611.69 y un RMSE de 40.14, la puntuación R2 fue de 0.20, esto indica un desempeño similar al de la Región 0 en la que el modelo tuvo un desempeño no muy acertado en los cálculos del volumen de reservas mientras que el volumen promedio previsto fue de 94.77 y el volumen promedio del conjunto de validación fue de 95.15.\n",
    "\n",
    "Con base a estos resultados se puede confirmar que el modelo de Regresión Lineal tuvo el mejor desempeño en la Región 1 mostrando una capacidad muy alta para predecir el volumen de reservas."
   ]
  },
  {
   "cell_type": "markdown",
   "metadata": {},
   "source": [
    "# Cálculo de ganancias"
   ]
  },
  {
   "cell_type": "markdown",
   "metadata": {},
   "source": [
    "Antes de calcular el beneficio voy a almacenar los valores necesarios para los cálculos considerando los siguientes valores:\n",
    "\n",
    "El número total de puntos analizados es de 500.\n",
    "\n",
    "Seleccionaré los 200 puntos principales para calcular la ganancia.\n",
    "\n",
    "El presupuesto disponible para el desarrollo de los 200 pozos petroleros más importantes es de 100 millones de dólares. \n",
    "\n",
    "Cada unidad del producto tiene un ingreso de 4.500 dólares. "
   ]
  },
  {
   "cell_type": "markdown",
   "metadata": {},
   "source": [
    "# Almacenamiento de valores necesarios para los cálculos"
   ]
  },
  {
   "cell_type": "code",
   "execution_count": 38,
   "metadata": {},
   "outputs": [],
   "source": [
    "analyzed_oilwells = 500\n",
    "\n",
    "best_oilwells = 200\n",
    "\n",
    "budget = 100000000\n",
    "\n",
    "unit_revenue = 4500"
   ]
  },
  {
   "cell_type": "markdown",
   "metadata": {},
   "source": [
    "# Verificación del volumen de reservas necesarias para desarrollar un nuevo pozo"
   ]
  },
  {
   "cell_type": "markdown",
   "metadata": {},
   "source": [
    "Para determinar el volumen de petróleo necesario para recuperar el costo de desarrollar un nuevo pozo, dividiré el costo total por la cantidad de pozos considerando el costo total de 100 millones de dólares y los 200 pozos principales."
   ]
  },
  {
   "cell_type": "code",
   "execution_count": 39,
   "metadata": {},
   "outputs": [
    {
     "name": "stdout",
     "output_type": "stream",
     "text": [
      "500000.0\n"
     ]
    }
   ],
   "source": [
    "cost = budget / best_oilwells\n",
    "print(cost)"
   ]
  },
  {
   "cell_type": "markdown",
   "metadata": {},
   "source": [
    "A continuación calcularé el volumen mínimo requerido para cada pozo, dividiendo el coste del pozo entre los ingresos por unidad del producto:"
   ]
  },
  {
   "cell_type": "code",
   "execution_count": 40,
   "metadata": {},
   "outputs": [
    {
     "name": "stdout",
     "output_type": "stream",
     "text": [
      "111.11111111111111\n"
     ]
    }
   ],
   "source": [
    "min_volume = cost / unit_revenue\n",
    "print(min_volume)"
   ]
  },
  {
   "cell_type": "markdown",
   "metadata": {},
   "source": [
    "El valor anterior representa la cantidad mínima de barriles de petróleo que cada pozo necesita producir para cubrir el costo de desarrollo."
   ]
  },
  {
   "cell_type": "markdown",
   "metadata": {},
   "source": [
    "# Gráfico comparativo de la cantidad media de reservas en cada región"
   ]
  },
  {
   "cell_type": "markdown",
   "metadata": {},
   "source": [
    "En el siguiente paso haré una gráfica comparativa del volumen promedio por región en donde una línea horizontal representa el volumen mínimo necesario para cubrir el costo de desarrollar un pozo (111,11 barriles)."
   ]
  },
  {
   "cell_type": "code",
   "execution_count": 41,
   "metadata": {},
   "outputs": [
    {
     "data": {
      "image/png": "[encoded data removed]",
      "text/plain": [
       "<Figure size 800x600 with 1 Axes>"
      ]
     },
     "metadata": {},
     "output_type": "display_data"
    }
   ],
   "source": [
    "average_volume_region_0 = df0[\"product\"].mean()\n",
    "average_volume_region_1 = df1[\"product\"].mean()\n",
    "average_volume_region_2 = df2[\"product\"].mean()\n",
    "\n",
    "colors = ['#FF7F0E', '#1F77B4', '#FFDC00']\n",
    "\n",
    "plt.figure(figsize=(8, 6))\n",
    "plt.bar([\"Región 0\", \"Región 1\", \"Región 2\"], [average_volume_region_0, average_volume_region_1, average_volume_region_2], color=colors)\n",
    "plt.axhline(y=min_volume, color='green', linestyle='--', label='Volumen mínimo')\n",
    "plt.xlabel('Región')\n",
    "plt.ylabel('Volumen promedio')\n",
    "plt.title('Volumen promedio de reservas por región')\n",
    "plt.legend()\n",
    "plt.show()"
   ]
  },
  {
   "cell_type": "markdown",
   "metadata": {},
   "source": [
    "Al observar el gráfico se puede notar que todas las regiones tienen promedios de volumen por debajo del valor mínimo requerido, esto significa que por el momento la inversión en exploración petrolera en estas regiones puede resultar en pérdidas al principio ya que el volumen promedio de reservas no es suficiente para cubrir el costo de desarrollar un nuevo pozo según los resultados."
   ]
  },
  {
   "cell_type": "markdown",
   "metadata": {},
   "source": [
    "# Cálculo de beneficios de pozos petroleros"
   ]
  },
  {
   "cell_type": "code",
   "execution_count": 42,
   "metadata": {},
   "outputs": [],
   "source": [
    "def revenue(df_target, predictions):\n",
    "\n",
    "    \n",
    "    predictions = pd.Series(predictions)\n",
    "\n",
    "    df_target = df_target.reset_index(drop=True)\n",
    "\n",
    "    predictions_sorted = predictions.sort_values(ascending=False)\n",
    "\n",
    "    selected_targets = df_target[predictions_sorted.index][:best_oilwells]\n",
    "\n",
    "    revenue_generated = (selected_targets.sum() * unit_revenue) - (cost * best_oilwells)\n",
    "\n",
    "    return revenue_generated"
   ]
  },
  {
   "cell_type": "code",
   "execution_count": 43,
   "metadata": {},
   "outputs": [
    {
     "name": "stdout",
     "output_type": "stream",
     "text": [
      "Ingresos generados en la Región 0: 33591411.14462179\n",
      "Ingresos generados en la Región 1: 24150866.966815114\n",
      "Ingresos generados en la Región 2: 25985717.59374112\n"
     ]
    }
   ],
   "source": [
    "revenue_region_0 = revenue(df0_target_valid, predictions_lr_0)\n",
    "revenue_region_1 = revenue(df1_target_valid, predictions_lr_1)\n",
    "revenue_region_2 = revenue(df2_target_valid, predictions_lr_2)\n",
    "\n",
    "print(\"Ingresos generados en la Región 0:\", revenue_region_0)\n",
    "print(\"Ingresos generados en la Región 1:\", revenue_region_1)\n",
    "print(\"Ingresos generados en la Región 2:\", revenue_region_2)"
   ]
  },
  {
   "cell_type": "markdown",
   "metadata": {},
   "source": [
    "Mediante este código en esta sección se pueden observar los valores de ingresos generados en las diferentes regiones según los 200 pozos principales de cada región indicando el potencial de ganancias y reflejando que al parecer la Región 0 tiene el mayor potencial de ganancias, seguida por la Región 2 y luego la Región 1."
   ]
  },
  {
   "cell_type": "markdown",
   "metadata": {},
   "source": [
    "# Cálculo de riesgos y beneficios para cada región"
   ]
  },
  {
   "cell_type": "code",
   "execution_count": 44,
   "metadata": {},
   "outputs": [
    {
     "name": "stdout",
     "output_type": "stream",
     "text": [
      "Región 0\n",
      "Beneficio promedio: 4062787.8342441902\n",
      "Intervalo de confianza 95%: [-1177421.36494869  9117370.50751404]\n",
      "Riesgo de perdida: 0.067\n",
      "\n",
      "Región 1\n",
      "Beneficio promedio: 4326241.318131374\n",
      "Intervalo de confianza 95%: [ 168461.74932431 8159725.26285752]\n",
      "Riesgo de perdida: 0.019\n",
      "\n",
      "Región 2\n",
      "Beneficio promedio: 3773621.924229164\n",
      "Intervalo de confianza 95%: [-1707804.17705727  9017721.31386445]\n",
      "Riesgo de perdida: 0.074\n",
      "\n"
     ]
    }
   ],
   "source": [
    "def boot_revenue(df_target, predictions):\n",
    "\n",
    "     \n",
    "     df_target = df_target.reset_index(drop=True)\n",
    "\n",
    "     state = np.random.RandomState(12345)\n",
    "\n",
    "     values = []\n",
    "\n",
    "     for i in range(1000):\n",
    "\n",
    "         df_subsample = df_target.sample(n=analyzed_oilwells, replace=True, random_state=state)\n",
    "\n",
    "         predictions_subsample = predictions[df_subsample.index]\n",
    "\n",
    "         revenue_value = revenue(df_subsample, predictions_subsample)\n",
    "\n",
    "         values.append(revenue_value)\n",
    "\n",
    "     return pd.Series(values)\n",
    "\n",
    "\n",
    "revenue_region0 = boot_revenue(df0_target_valid, predictions_lr_0)\n",
    "revenue_region1 = boot_revenue(df1_target_valid, predictions_lr_1)\n",
    "revenue_region2 = boot_revenue(df2_target_valid, predictions_lr_2)\n",
    "\n",
    "def quantile(revenues):\n",
    "     return np.quantile(revenues, [0.025, 0.975])\n",
    "\n",
    "def risk(revenues):\n",
    "     return np.mean(revenues < 0)\n",
    "\n",
    "confidence_interval_region0 = quantile(revenue_region0)\n",
    "confidence_interval_region1 = quantile(revenue_region1)\n",
    "confidence_interval_region2 = quantile(revenue_region2)\n",
    "\n",
    "risk_of_harm_region0 = risk(revenue_region0)\n",
    "risk_of_harm_region1 = risk(revenue_region1)\n",
    "risk_of_harm_region2 = risk(revenue_region2)\n",
    "\n",
    "region_data = [\n",
    "     {\n",
    "         'name': 'Región 0',\n",
    "         'revenue': revenue_region0,\n",
    "         'confidence_interval': confidence_interval_region0,\n",
    "         'risk_of_harm': risk_of_harm_region0\n",
    "     },\n",
    "     {\n",
    "         'name': 'Región 1',\n",
    "         'revenue': revenue_region1,\n",
    "         'confidence_interval': confidence_interval_region1,\n",
    "         'risk_of_harm': risk_of_harm_region1\n",
    "     },\n",
    "     {\n",
    "         'name': 'Región 2',\n",
    "         'revenue': revenue_region2,\n",
    "         'confidence_interval': confidence_interval_region2,\n",
    "         'risk_of_harm': risk_of_harm_region2\n",
    "     },\n",
    "]\n",
    "\n",
    "for data in region_data:\n",
    "     print(f'{data[\"name\"]}')\n",
    "     print(f'Beneficio promedio: {data[\"revenue\"].mean()}')\n",
    "     print(f'Intervalo de confianza 95%: {data[\"confidence_interval\"]}')\n",
    "     print(f'Riesgo de perdida: {data[\"risk_of_harm\"]}\\n')"
   ]
  },
  {
   "cell_type": "markdown",
   "metadata": {},
   "source": [
    "En este código usé la función boot_revenue para usar la técnica de bootstrapping que es responsable de iniciar y calcular los ingresos para cada región, luego las funciones quantile y de risk se utilizan para calcular el intervalo de confianza y el riesgo de pérdida respectivamente y al final se imprimen los resultados para cada región, mostrando la ganancia media, el intervalo de confianza del 95% y el riesgo de pérdida.\n",
    "\n",
    "Después de analizar los resultados se puede observar que la Región 1 tiene la ganancia promedio más alta y el menor riesgo de pérdida entre las tres regiones analizadas por lo tanto, desde mi punto de vista  y en base a los resultados obtenidos debe considerarse esta región para el desarrollo de pozos petroleros, ya que tiene un buen potencial de retorno financiero y menor riesgo de pérdida."
   ]
  },
  {
   "cell_type": "markdown",
   "metadata": {},
   "source": [
    "# Conclusión"
   ]
  },
  {
   "cell_type": "markdown",
   "metadata": {},
   "source": [
    "A través de este trabajo se trató de dar solución a los requerimientos que nos planteó la empresa OilyGiant para lograr el objetivo de encontrar la mejor región para excavar 200 pozos petroleros nuevos llegando a la conclusión de que la mejor región para hacerlo era la región 1 ya que a pesar de que en un principio parecían mas atractivas y con mejores características para lograr ganancias las regiones 0 Y 2 Al final después de un análisis exhaustivo se logró ver mediante los resultados que la mejor región era la 1 ya que tuvo la ganancia promedio más alta y el menor riesgo de perdida, por lo tanto es la más confiable.\n"
   ]
  }
 ],
 "metadata": {
  "ExecuteTimeLog": [
   {
    "duration": 6234,
    "start_time": "2024-06-26T18:41:33.636Z"
   },
   {
    "duration": 737,
    "start_time": "2024-06-26T18:41:39.879Z"
   },
   {
    "duration": 157,
    "start_time": "2024-06-26T18:41:40.619Z"
   },
   {
    "duration": 18,
    "start_time": "2024-06-26T18:43:39.818Z"
   },
   {
    "duration": 148,
    "start_time": "2024-06-26T18:43:42.754Z"
   },
   {
    "duration": 12,
    "start_time": "2024-06-26T18:44:22.877Z"
   },
   {
    "duration": 103,
    "start_time": "2024-06-26T18:44:55.716Z"
   },
   {
    "duration": 18,
    "start_time": "2024-06-26T18:45:13.538Z"
   },
   {
    "duration": 105,
    "start_time": "2024-06-26T18:45:36.121Z"
   },
   {
    "duration": 417,
    "start_time": "2024-06-26T18:50:00.251Z"
   },
   {
    "duration": 855,
    "start_time": "2024-06-26T18:52:36.493Z"
   },
   {
    "duration": 350,
    "start_time": "2024-06-26T18:53:31.551Z"
   },
   {
    "duration": 298,
    "start_time": "2024-06-26T19:00:17.921Z"
   },
   {
    "duration": 81,
    "start_time": "2024-06-26T19:06:20.484Z"
   },
   {
    "duration": 103,
    "start_time": "2024-06-26T19:10:01.771Z"
   },
   {
    "duration": 21,
    "start_time": "2024-06-26T19:13:15.990Z"
   },
   {
    "duration": 8,
    "start_time": "2024-06-26T19:13:36.159Z"
   },
   {
    "duration": 44,
    "start_time": "2024-06-26T19:15:00.925Z"
   },
   {
    "duration": 904,
    "start_time": "2024-06-26T19:16:34.862Z"
   },
   {
    "duration": 4,
    "start_time": "2024-06-26T19:23:34.769Z"
   },
   {
    "duration": 4,
    "start_time": "2024-06-26T19:24:17.339Z"
   },
   {
    "duration": 6,
    "start_time": "2024-06-26T19:24:26.750Z"
   },
   {
    "duration": 321,
    "start_time": "2024-06-26T19:25:33.026Z"
   },
   {
    "duration": 4,
    "start_time": "2024-06-26T19:26:52.331Z"
   },
   {
    "duration": 28,
    "start_time": "2024-06-26T19:27:12.691Z"
   },
   {
    "duration": 3628,
    "start_time": "2024-06-26T19:36:10.008Z"
   },
   {
    "duration": 277,
    "start_time": "2024-06-26T19:42:21.378Z"
   },
   {
    "duration": 85,
    "start_time": "2024-06-26T19:47:21.909Z"
   },
   {
    "duration": 31,
    "start_time": "2024-06-26T20:01:21.988Z"
   },
   {
    "duration": 34,
    "start_time": "2024-06-26T20:02:25.493Z"
   },
   {
    "duration": 32,
    "start_time": "2024-06-26T20:33:16.626Z"
   },
   {
    "duration": 25,
    "start_time": "2024-06-26T20:33:24.611Z"
   },
   {
    "duration": 848,
    "start_time": "2024-06-26T20:36:42.936Z"
   },
   {
    "duration": 319,
    "start_time": "2024-06-26T20:43:21.855Z"
   },
   {
    "duration": 22,
    "start_time": "2024-06-26T20:44:01.472Z"
   },
   {
    "duration": 3231,
    "start_time": "2024-06-26T20:46:06.800Z"
   },
   {
    "duration": 3327,
    "start_time": "2024-06-26T20:46:40.141Z"
   },
   {
    "duration": 343,
    "start_time": "2024-06-28T19:32:48.730Z"
   },
   {
    "duration": 5636,
    "start_time": "2024-06-28T19:33:06.375Z"
   },
   {
    "duration": 534,
    "start_time": "2024-06-28T19:33:12.017Z"
   },
   {
    "duration": 19,
    "start_time": "2024-06-28T19:33:12.554Z"
   },
   {
    "duration": 149,
    "start_time": "2024-06-28T19:33:12.578Z"
   },
   {
    "duration": 14,
    "start_time": "2024-06-28T19:33:12.730Z"
   },
   {
    "duration": 175,
    "start_time": "2024-06-28T19:33:12.748Z"
   },
   {
    "duration": 17,
    "start_time": "2024-06-28T19:33:12.927Z"
   },
   {
    "duration": 164,
    "start_time": "2024-06-28T19:33:12.947Z"
   },
   {
    "duration": 432,
    "start_time": "2024-06-28T19:33:13.125Z"
   },
   {
    "duration": 275,
    "start_time": "2024-06-28T19:33:14.687Z"
   },
   {
    "duration": 90,
    "start_time": "2024-06-28T19:33:16.812Z"
   },
   {
    "duration": 36,
    "start_time": "2024-06-28T19:33:19.189Z"
   },
   {
    "duration": 25,
    "start_time": "2024-06-28T19:33:20.115Z"
   },
   {
    "duration": 28,
    "start_time": "2024-06-28T19:33:21.118Z"
   },
   {
    "duration": 929,
    "start_time": "2024-06-28T19:33:22.700Z"
   },
   {
    "duration": 4,
    "start_time": "2024-06-28T19:33:25.148Z"
   },
   {
    "duration": 4,
    "start_time": "2024-06-28T19:33:26.742Z"
   },
   {
    "duration": 4,
    "start_time": "2024-06-28T19:33:27.959Z"
   },
   {
    "duration": 321,
    "start_time": "2024-06-28T19:33:29.868Z"
   },
   {
    "duration": 6,
    "start_time": "2024-06-28T19:33:34.000Z"
   },
   {
    "duration": 25,
    "start_time": "2024-06-28T19:33:34.707Z"
   },
   {
    "duration": 3782,
    "start_time": "2024-06-28T19:33:37.620Z"
   },
   {
    "duration": 338,
    "start_time": "2024-06-28T19:57:44.599Z"
   },
   {
    "duration": 341,
    "start_time": "2024-06-28T19:58:09.135Z"
   },
   {
    "duration": 362,
    "start_time": "2024-06-28T19:58:19.493Z"
   },
   {
    "duration": 1750,
    "start_time": "2024-06-28T20:22:24.719Z"
   },
   {
    "duration": 435,
    "start_time": "2024-06-28T20:22:27.172Z"
   },
   {
    "duration": 21,
    "start_time": "2024-06-28T20:22:29.477Z"
   },
   {
    "duration": 132,
    "start_time": "2024-06-28T20:22:29.976Z"
   },
   {
    "duration": 13,
    "start_time": "2024-06-28T20:22:30.462Z"
   },
   {
    "duration": 120,
    "start_time": "2024-06-28T20:22:31.012Z"
   },
   {
    "duration": 16,
    "start_time": "2024-06-28T20:22:31.468Z"
   },
   {
    "duration": 116,
    "start_time": "2024-06-28T20:22:31.956Z"
   },
   {
    "duration": 424,
    "start_time": "2024-06-28T20:22:33.539Z"
   },
   {
    "duration": 281,
    "start_time": "2024-06-28T20:22:35.852Z"
   },
   {
    "duration": 95,
    "start_time": "2024-06-28T20:22:37.827Z"
   },
   {
    "duration": 31,
    "start_time": "2024-06-28T20:22:40.755Z"
   },
   {
    "duration": 22,
    "start_time": "2024-06-28T20:22:41.759Z"
   },
   {
    "duration": 23,
    "start_time": "2024-06-28T20:22:42.683Z"
   },
   {
    "duration": 972,
    "start_time": "2024-06-28T20:22:43.176Z"
   },
   {
    "duration": 5,
    "start_time": "2024-06-28T20:22:45.476Z"
   },
   {
    "duration": 5,
    "start_time": "2024-06-28T20:22:47.203Z"
   },
   {
    "duration": 5,
    "start_time": "2024-06-28T20:22:48.180Z"
   },
   {
    "duration": 338,
    "start_time": "2024-06-28T20:22:50.036Z"
   },
   {
    "duration": 6,
    "start_time": "2024-06-28T20:22:52.237Z"
   },
   {
    "duration": 24,
    "start_time": "2024-06-28T20:22:52.641Z"
   },
   {
    "duration": 3813,
    "start_time": "2024-06-28T20:23:02.912Z"
   },
   {
    "duration": 5482,
    "start_time": "2024-06-30T02:29:51.126Z"
   },
   {
    "duration": 1993,
    "start_time": "2024-06-30T02:29:56.614Z"
   },
   {
    "duration": 104,
    "start_time": "2024-06-30T02:29:58.611Z"
   },
   {
    "duration": 689,
    "start_time": "2024-06-30T02:29:58.720Z"
   },
   {
    "duration": 103,
    "start_time": "2024-06-30T02:29:59.419Z"
   },
   {
    "duration": 605,
    "start_time": "2024-06-30T02:29:59.610Z"
   },
   {
    "duration": 18,
    "start_time": "2024-06-30T02:30:00.302Z"
   },
   {
    "duration": 1178,
    "start_time": "2024-06-30T02:30:00.324Z"
   },
   {
    "duration": 1604,
    "start_time": "2024-06-30T02:30:01.505Z"
   },
   {
    "duration": 1590,
    "start_time": "2024-06-30T02:30:03.123Z"
   },
   {
    "duration": 400,
    "start_time": "2024-06-30T02:30:04.722Z"
   },
   {
    "duration": 109,
    "start_time": "2024-06-30T02:30:05.208Z"
   },
   {
    "duration": 192,
    "start_time": "2024-06-30T02:30:05.320Z"
   },
   {
    "duration": 181,
    "start_time": "2024-06-30T02:30:05.521Z"
   },
   {
    "duration": 4697,
    "start_time": "2024-06-30T02:30:05.710Z"
   },
   {
    "duration": 6,
    "start_time": "2024-06-30T02:30:10.413Z"
   },
   {
    "duration": 85,
    "start_time": "2024-06-30T02:30:10.424Z"
   },
   {
    "duration": 5,
    "start_time": "2024-06-30T02:30:10.511Z"
   },
   {
    "duration": 1190,
    "start_time": "2024-06-30T02:30:10.519Z"
   },
   {
    "duration": 82,
    "start_time": "2024-06-30T02:30:11.720Z"
   },
   {
    "duration": 192,
    "start_time": "2024-06-30T02:30:11.813Z"
   },
   {
    "duration": 14910,
    "start_time": "2024-06-30T02:30:12.016Z"
   },
   {
    "duration": 6,
    "start_time": "2024-06-30T02:56:47.108Z"
   },
   {
    "duration": 2397,
    "start_time": "2024-06-30T02:56:47.118Z"
   },
   {
    "duration": 93,
    "start_time": "2024-06-30T02:56:49.519Z"
   },
   {
    "duration": 796,
    "start_time": "2024-06-30T02:56:49.623Z"
   },
   {
    "duration": 176,
    "start_time": "2024-06-30T02:56:50.424Z"
   },
   {
    "duration": 608,
    "start_time": "2024-06-30T02:56:50.607Z"
   },
   {
    "duration": 99,
    "start_time": "2024-06-30T02:56:51.306Z"
   },
   {
    "duration": 593,
    "start_time": "2024-06-30T02:56:51.416Z"
   },
   {
    "duration": 1487,
    "start_time": "2024-06-30T02:56:52.019Z"
   },
   {
    "duration": 1611,
    "start_time": "2024-06-30T02:56:53.510Z"
   },
   {
    "duration": 397,
    "start_time": "2024-06-30T02:56:55.209Z"
   },
   {
    "duration": 197,
    "start_time": "2024-06-30T02:56:55.617Z"
   },
   {
    "duration": 205,
    "start_time": "2024-06-30T02:56:55.817Z"
   },
   {
    "duration": 188,
    "start_time": "2024-06-30T02:56:56.025Z"
   },
   {
    "duration": 4581,
    "start_time": "2024-06-30T02:56:56.224Z"
   },
   {
    "duration": 10,
    "start_time": "2024-06-30T02:57:00.808Z"
   },
   {
    "duration": 90,
    "start_time": "2024-06-30T02:57:00.824Z"
   },
   {
    "duration": 82,
    "start_time": "2024-06-30T02:57:00.918Z"
   },
   {
    "duration": 1214,
    "start_time": "2024-06-30T02:57:01.004Z"
   },
   {
    "duration": 7,
    "start_time": "2024-06-30T02:57:02.301Z"
   },
   {
    "duration": 106,
    "start_time": "2024-06-30T02:57:02.312Z"
   },
   {
    "duration": 17528,
    "start_time": "2024-06-30T02:57:02.502Z"
   },
   {
    "duration": 68,
    "start_time": "2024-06-30T03:01:25.232Z"
   }
  ],
  "kernelspec": {
   "display_name": "Python 3 (ipykernel)",
   "language": "python",
   "name": "python3"
  },
  "language_info": {
   "codemirror_mode": {
    "name": "ipython",
    "version": 3
   },
   "file_extension": ".py",
   "mimetype": "text/x-python",
   "name": "python",
   "nbconvert_exporter": "python",
   "pygments_lexer": "ipython3",
   "version": "3.9.19"
  },
  "toc": {
   "base_numbering": 1,
   "nav_menu": {},
   "number_sections": true,
   "sideBar": true,
   "skip_h1_title": true,
   "title_cell": "Table of Contents",
   "title_sidebar": "Contents",
   "toc_cell": false,
   "toc_position": {},
   "toc_section_display": true,
   "toc_window_display": false
  }
 },
 "nbformat": 4,
 "nbformat_minor": 2
}
